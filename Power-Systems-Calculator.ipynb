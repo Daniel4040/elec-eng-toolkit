{
 "cells": [
  {
   "cell_type": "code",
   "execution_count": 3,
   "metadata": {},
   "outputs": [],
   "source": [
    "import matplotlib\n",
    "import matplotlib.pyplot as plt\n",
    "import numpy as np\n",
    "import math"
   ]
  },
  {
   "cell_type": "code",
   "execution_count": 28,
   "metadata": {},
   "outputs": [],
   "source": [
    "def power_factor_corrector():\n",
    "    #Power Factor Correction Calculator. Start by inputting current power (real + reactive) and power\n",
    "    # factor with direction (leading or lagging)\n",
    "    apparent_power = float(input(\"Enter existing apparent power (VA): \"))\n",
    "    pf = float(input(\"Enter power factor: \"))\n",
    "    pf_direction = str(input(\"Enter power factor direction: \"))\n",
    "    \n",
    "    pf_correction = float(input(\"Enter apparent power of correction method (VA): \"))\n",
    "    pf_correction_direction = str(input(\"Enter cap bank power factor direction: \"))\n",
    "    \n",
    "    if pf_direction == \"lagging\":\n",
    "        power_rectangular = complex(apparent_power * pf, apparent_power * np.sin(np.arccos(pf)))\n",
    "    elif pf_direction == \"leading\":\n",
    "        power_rectangular = complex(apparent_power * pf, - apparent_power * np.sin(np.arccos(pf)))\n",
    "    else:\n",
    "        print(\"Please enter either leading or lagging\")\n",
    "    \n",
    "    if pf_correction_direction == \"leading\":\n",
    "        pf_correction_rectangular = complex(0, - pf_correction)\n",
    "    elif pf_correction_direction == \"lagging\":\n",
    "        pf_correction_rectangular = complex(0, + pf_correction)\n",
    "    else:\n",
    "        print(\"Please enter either leading or lagging\")\n",
    "    \n",
    "    corrected_power_rectangular = power_rectangular + pf_correction_rectangular\n",
    "    corrected_power_polar_magnitude = int(np.sqrt((np.real(corrected_power_rectangular))**2 + (np.imag(corrected_power_rectangular))**2))\n",
    "    corrected_power_polar_angle = round((np.arctan(np.imag(corrected_power_rectangular) / np.real(corrected_power_rectangular))), 2)\n",
    "    \n",
    "    corrected_power_pf = np.cos(np.angle(corrected_power_rectangular))\n",
    "    if corrected_power_rectangular.imag >= 0:\n",
    "        corrected_power_direction = \"lagging\"\n",
    "    elif corrected_power_rectangular.imag < 0:\n",
    "        corrected_power_direction = \"leading\"\n",
    "    return \"The corrected apparent power is \" + str(corrected_power_polar_magnitude) + \" VA at \" + str(round(corrected_power_pf, 2)) + \" pf \" + corrected_power_direction\n",
    "    \n",
    "    "
   ]
  },
  {
   "cell_type": "code",
   "execution_count": 27,
   "metadata": {},
   "outputs": [],
   "source": [
    "def three_phase_motor_fla():\n",
    "    hp = float(input(\"Motor HP: \"))\n",
    "    voltage = float(input(\"Motor phase voltage: \"))\n",
    "    eff = input(\"Motor efficiency (decimal format, 0 if not given): \")\n",
    "    motor_pf = float(input(\"Motor power factor (decimal format):\"))\n",
    "    if eff == '0':\n",
    "        fla = str(round((hp * 746) / (voltage * motor_pf * np.sqrt(3)), 1)) + \" Amps\"\n",
    "    else:\n",
    "        fla = str(round((hp * 746) / (voltage * eff * motor_pf * np.sqrt(3)), 1)) + \" Amps\"\n",
    "    if hp > 250 and voltage <= 480:\n",
    "        print(\"\\n***Consider installing motor at the medium voltage level, i.e. 4.16 kV and above due to size\")\n",
    "    return '3 Phase Motor - FLA = ' + fla + ' - Remember that NEC defines motor FLC separately from nameplate FLA'"
   ]
  },
  {
   "cell_type": "code",
   "execution_count": 26,
   "metadata": {},
   "outputs": [
    {
     "name": "stdout",
     "output_type": "stream",
     "text": [
      "Motor HP: 100\n",
      "Motor phase voltage: 480\n",
      "Motor efficiency (decimal format, 0 if not given): 0\n",
      "Motor power factor (decimal format):0.8\n"
     ]
    },
    {
     "data": {
      "text/plain": [
       "'3 Phase Motor - FLA = 112.2 Amps - Remember that NEC defines motor FLC separately from nameplate FLA'"
      ]
     },
     "execution_count": 26,
     "metadata": {},
     "output_type": "execute_result"
    }
   ],
   "source": [
    "three_phase_motor_fla()"
   ]
  },
  {
   "cell_type": "code",
   "execution_count": null,
   "metadata": {},
   "outputs": [],
   "source": []
  }
 ],
 "metadata": {
  "kernelspec": {
   "display_name": "Python 3",
   "language": "python",
   "name": "python3"
  },
  "language_info": {
   "codemirror_mode": {
    "name": "ipython",
    "version": 3
   },
   "file_extension": ".py",
   "mimetype": "text/x-python",
   "name": "python",
   "nbconvert_exporter": "python",
   "pygments_lexer": "ipython3",
   "version": "3.7.1"
  }
 },
 "nbformat": 4,
 "nbformat_minor": 2
}
